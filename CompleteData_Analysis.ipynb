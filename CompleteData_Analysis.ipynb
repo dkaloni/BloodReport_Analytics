{
 "cells": [
  {
   "cell_type": "code",
   "execution_count": null,
   "metadata": {},
   "outputs": [],
   "source": []
  },
  {
   "cell_type": "code",
   "execution_count": 13,
   "metadata": {},
   "outputs": [],
   "source": [
    "import numpy as np\n",
    "import pandas as pd\n",
    "from pandas_profiling import ProfileReport\n"
   ]
  },
  {
   "cell_type": "code",
   "execution_count": 14,
   "metadata": {},
   "outputs": [
    {
     "data": {
      "text/html": [
       "<div>\n",
       "<style scoped>\n",
       "    .dataframe tbody tr th:only-of-type {\n",
       "        vertical-align: middle;\n",
       "    }\n",
       "\n",
       "    .dataframe tbody tr th {\n",
       "        vertical-align: top;\n",
       "    }\n",
       "\n",
       "    .dataframe thead th {\n",
       "        text-align: right;\n",
       "    }\n",
       "</style>\n",
       "<table border=\"1\" class=\"dataframe\">\n",
       "  <thead>\n",
       "    <tr style=\"text-align: right;\">\n",
       "      <th></th>\n",
       "      <th>patient_id</th>\n",
       "      <th>standard_lab_parameter_name</th>\n",
       "      <th>parameter_value</th>\n",
       "      <th>unit</th>\n",
       "      <th>created_at</th>\n",
       "      <th>reference_high</th>\n",
       "      <th>reference_low</th>\n",
       "      <th>age_group</th>\n",
       "      <th>gender</th>\n",
       "    </tr>\n",
       "  </thead>\n",
       "  <tbody>\n",
       "    <tr>\n",
       "      <th>0</th>\n",
       "      <td>0</td>\n",
       "      <td>WBC</td>\n",
       "      <td>579.00</td>\n",
       "      <td>10^3/μl</td>\n",
       "      <td>2019-07-02 1:19:04</td>\n",
       "      <td>10.0</td>\n",
       "      <td>4.0</td>\n",
       "      <td>old</td>\n",
       "      <td>male</td>\n",
       "    </tr>\n",
       "    <tr>\n",
       "      <th>1</th>\n",
       "      <td>1</td>\n",
       "      <td>T4</td>\n",
       "      <td>5.00</td>\n",
       "      <td>μg/dl</td>\n",
       "      <td>2019-07-02 1:19:04</td>\n",
       "      <td>12.0</td>\n",
       "      <td>4.5</td>\n",
       "      <td>old</td>\n",
       "      <td>male</td>\n",
       "    </tr>\n",
       "    <tr>\n",
       "      <th>2</th>\n",
       "      <td>2</td>\n",
       "      <td>WBC</td>\n",
       "      <td>6.81</td>\n",
       "      <td>10^3/μl</td>\n",
       "      <td>2019-05-06 14:07:52</td>\n",
       "      <td>10.0</td>\n",
       "      <td>4.0</td>\n",
       "      <td>adult</td>\n",
       "      <td>male</td>\n",
       "    </tr>\n",
       "    <tr>\n",
       "      <th>3</th>\n",
       "      <td>3</td>\n",
       "      <td>T4</td>\n",
       "      <td>5.70</td>\n",
       "      <td>μg/dl</td>\n",
       "      <td>2019-05-06 14:07:52</td>\n",
       "      <td>12.0</td>\n",
       "      <td>4.5</td>\n",
       "      <td>adult</td>\n",
       "      <td>male</td>\n",
       "    </tr>\n",
       "    <tr>\n",
       "      <th>4</th>\n",
       "      <td>4</td>\n",
       "      <td>WBC</td>\n",
       "      <td>4.64</td>\n",
       "      <td>10^3/μl</td>\n",
       "      <td>2019-07-21 13:41:00.528523+00:00</td>\n",
       "      <td>10.0</td>\n",
       "      <td>4.0</td>\n",
       "      <td>adult</td>\n",
       "      <td>male</td>\n",
       "    </tr>\n",
       "  </tbody>\n",
       "</table>\n",
       "</div>"
      ],
      "text/plain": [
       "   patient_id standard_lab_parameter_name  parameter_value     unit  \\\n",
       "0           0                         WBC           579.00  10^3/μl   \n",
       "1           1                          T4             5.00    μg/dl   \n",
       "2           2                         WBC             6.81  10^3/μl   \n",
       "3           3                          T4             5.70    μg/dl   \n",
       "4           4                         WBC             4.64  10^3/μl   \n",
       "\n",
       "                         created_at  reference_high  reference_low age_group  \\\n",
       "0                2019-07-02 1:19:04            10.0            4.0       old   \n",
       "1                2019-07-02 1:19:04            12.0            4.5       old   \n",
       "2               2019-05-06 14:07:52            10.0            4.0     adult   \n",
       "3               2019-05-06 14:07:52            12.0            4.5     adult   \n",
       "4  2019-07-21 13:41:00.528523+00:00            10.0            4.0     adult   \n",
       "\n",
       "  gender  \n",
       "0   male  \n",
       "1   male  \n",
       "2   male  \n",
       "3   male  \n",
       "4   male  "
      ]
     },
     "execution_count": 14,
     "metadata": {},
     "output_type": "execute_result"
    }
   ],
   "source": [
    "df = pd.read_csv(\"combinedtesttrain.csv\")\n",
    "df.head()"
   ]
  },
  {
   "cell_type": "code",
   "execution_count": 15,
   "metadata": {},
   "outputs": [],
   "source": [
    "from pandas_visual_analysis import VisualAnalysis\n"
   ]
  },
  {
   "cell_type": "code",
   "execution_count": 16,
   "metadata": {},
   "outputs": [
    {
     "data": {
      "text/html": [
       "<div>\n",
       "<style scoped>\n",
       "    .dataframe tbody tr th:only-of-type {\n",
       "        vertical-align: middle;\n",
       "    }\n",
       "\n",
       "    .dataframe tbody tr th {\n",
       "        vertical-align: top;\n",
       "    }\n",
       "\n",
       "    .dataframe thead th {\n",
       "        text-align: right;\n",
       "    }\n",
       "</style>\n",
       "<table border=\"1\" class=\"dataframe\">\n",
       "  <thead>\n",
       "    <tr style=\"text-align: right;\">\n",
       "      <th></th>\n",
       "      <th>patient_id</th>\n",
       "      <th>parameter_value</th>\n",
       "      <th>reference_high</th>\n",
       "      <th>reference_low</th>\n",
       "    </tr>\n",
       "  </thead>\n",
       "  <tbody>\n",
       "    <tr>\n",
       "      <th>count</th>\n",
       "      <td>20000.000000</td>\n",
       "      <td>20000.000000</td>\n",
       "      <td>20000.000000</td>\n",
       "      <td>20000.000000</td>\n",
       "    </tr>\n",
       "    <tr>\n",
       "      <th>mean</th>\n",
       "      <td>4999.500000</td>\n",
       "      <td>277.635296</td>\n",
       "      <td>311.506936</td>\n",
       "      <td>137.747040</td>\n",
       "    </tr>\n",
       "    <tr>\n",
       "      <th>std</th>\n",
       "      <td>2886.823503</td>\n",
       "      <td>6641.218574</td>\n",
       "      <td>1626.876124</td>\n",
       "      <td>642.261597</td>\n",
       "    </tr>\n",
       "    <tr>\n",
       "      <th>min</th>\n",
       "      <td>0.000000</td>\n",
       "      <td>-71.000000</td>\n",
       "      <td>1.120000</td>\n",
       "      <td>0.000000</td>\n",
       "    </tr>\n",
       "    <tr>\n",
       "      <th>25%</th>\n",
       "      <td>2499.750000</td>\n",
       "      <td>6.900000</td>\n",
       "      <td>10.000000</td>\n",
       "      <td>4.000000</td>\n",
       "    </tr>\n",
       "    <tr>\n",
       "      <th>50%</th>\n",
       "      <td>4999.500000</td>\n",
       "      <td>9.200000</td>\n",
       "      <td>12.000000</td>\n",
       "      <td>4.500000</td>\n",
       "    </tr>\n",
       "    <tr>\n",
       "      <th>75%</th>\n",
       "      <td>7499.250000</td>\n",
       "      <td>101.000000</td>\n",
       "      <td>107.000000</td>\n",
       "      <td>98.000000</td>\n",
       "    </tr>\n",
       "    <tr>\n",
       "      <th>max</th>\n",
       "      <td>9999.000000</td>\n",
       "      <td>920000.000000</td>\n",
       "      <td>15000.000000</td>\n",
       "      <td>5000.000000</td>\n",
       "    </tr>\n",
       "  </tbody>\n",
       "</table>\n",
       "</div>"
      ],
      "text/plain": [
       "         patient_id  parameter_value  reference_high  reference_low\n",
       "count  20000.000000     20000.000000    20000.000000   20000.000000\n",
       "mean    4999.500000       277.635296      311.506936     137.747040\n",
       "std     2886.823503      6641.218574     1626.876124     642.261597\n",
       "min        0.000000       -71.000000        1.120000       0.000000\n",
       "25%     2499.750000         6.900000       10.000000       4.000000\n",
       "50%     4999.500000         9.200000       12.000000       4.500000\n",
       "75%     7499.250000       101.000000      107.000000      98.000000\n",
       "max     9999.000000    920000.000000    15000.000000    5000.000000"
      ]
     },
     "execution_count": 16,
     "metadata": {},
     "output_type": "execute_result"
    }
   ],
   "source": [
    "df.describe()\n"
   ]
  },
  {
   "cell_type": "code",
   "execution_count": null,
   "metadata": {},
   "outputs": [],
   "source": []
  },
  {
   "cell_type": "code",
   "execution_count": 17,
   "metadata": {},
   "outputs": [],
   "source": [
    "profile = ProfileReport(df, title='Pandas Profiling Report', explorative=True)\n"
   ]
  },
  {
   "cell_type": "code",
   "execution_count": 18,
   "metadata": {},
   "outputs": [
    {
     "data": {
      "application/vnd.jupyter.widget-view+json": {
       "model_id": "9963713e10f74ba5a051f5d10db4e3a7",
       "version_major": 2,
       "version_minor": 0
      },
      "text/plain": [
       "HBox(children=(FloatProgress(value=0.0, description='Summarize dataset', max=23.0, style=ProgressStyle(descrip…"
      ]
     },
     "metadata": {},
     "output_type": "display_data"
    },
    {
     "name": "stdout",
     "output_type": "stream",
     "text": [
      "\n"
     ]
    },
    {
     "data": {
      "application/vnd.jupyter.widget-view+json": {
       "model_id": "bf9ed2927dbb45dab78feeae5d89b65b",
       "version_major": 2,
       "version_minor": 0
      },
      "text/plain": [
       "HBox(children=(FloatProgress(value=0.0, description='Generate report structure', max=1.0, style=ProgressStyle(…"
      ]
     },
     "metadata": {},
     "output_type": "display_data"
    },
    {
     "name": "stdout",
     "output_type": "stream",
     "text": [
      "\n"
     ]
    },
    {
     "data": {
      "application/vnd.jupyter.widget-view+json": {
       "model_id": "",
       "version_major": 2,
       "version_minor": 0
      },
      "text/plain": [
       "HBox(children=(FloatProgress(value=0.0, description='Render widgets', max=1.0, style=ProgressStyle(description…"
      ]
     },
     "metadata": {},
     "output_type": "display_data"
    },
    {
     "data": {
      "application/vnd.jupyter.widget-view+json": {
       "model_id": "170a6136862e4e5687ab8d515ab2c008",
       "version_major": 2,
       "version_minor": 0
      },
      "text/plain": [
       "VBox(children=(Tab(children=(Tab(children=(GridBox(children=(VBox(children=(GridspecLayout(children=(HTML(valu…"
      ]
     },
     "metadata": {},
     "output_type": "display_data"
    },
    {
     "name": "stdout",
     "output_type": "stream",
     "text": [
      "Exception on /dtale/charts/_dash-update-component [POST]\n",
      "Traceback (most recent call last):\n",
      "  File \"C:\\ProgramData\\Anaconda3\\lib\\site-packages\\flask\\app.py\", line 2447, in wsgi_app\n",
      "    response = self.full_dispatch_request()\n",
      "  File \"C:\\ProgramData\\Anaconda3\\lib\\site-packages\\flask\\app.py\", line 1952, in full_dispatch_request\n",
      "    rv = self.handle_user_exception(e)\n",
      "  File \"C:\\ProgramData\\Anaconda3\\lib\\site-packages\\flask\\app.py\", line 1821, in handle_user_exception\n",
      "    reraise(exc_type, exc_value, tb)\n",
      "  File \"C:\\ProgramData\\Anaconda3\\lib\\site-packages\\flask\\_compat.py\", line 39, in reraise\n",
      "    raise value\n",
      "  File \"C:\\ProgramData\\Anaconda3\\lib\\site-packages\\flask\\app.py\", line 1950, in full_dispatch_request\n",
      "    rv = self.dispatch_request()\n",
      "  File \"C:\\ProgramData\\Anaconda3\\lib\\site-packages\\flask\\app.py\", line 1936, in dispatch_request\n",
      "    return self.view_functions[rule.endpoint](**req.view_args)\n",
      "  File \"C:\\ProgramData\\Anaconda3\\lib\\site-packages\\dash\\dash.py\", line 1078, in dispatch\n",
      "    response.set_data(func(*args, outputs_list=outputs_list))\n",
      "  File \"C:\\ProgramData\\Anaconda3\\lib\\site-packages\\dash\\dash.py\", line 1009, in add_context\n",
      "    output_value = func(*args, **kwargs)  # %% callback invoked %%\n",
      "  File \"C:\\ProgramData\\Anaconda3\\lib\\site-packages\\dtale\\dash_application\\views.py\", line 917, in group_values\n",
      "    group_vals = build_group_val_options(group_vals, group_cols)\n",
      "  File \"C:\\ProgramData\\Anaconda3\\lib\\site-packages\\dtale\\dash_application\\layout\\layout.py\", line 792, in build_group_val_options\n",
      "    group_vals = find_group_vals(df, group_cols)\n",
      "  File \"C:\\ProgramData\\Anaconda3\\lib\\site-packages\\dtale\\charts\\utils.py\", line 798, in find_group_vals\n",
      "    group_vals, _ = retrieve_chart_data(df, group_cols)\n",
      "  File \"C:\\ProgramData\\Anaconda3\\lib\\site-packages\\dtale\\charts\\utils.py\", line 298, in retrieve_chart_data\n",
      "    all_data = pd.concat(all_data, axis=1)\n",
      "  File \"C:\\Users\\dk\\AppData\\Roaming\\Python\\Python38\\site-packages\\pandas\\core\\reshape\\concat.py\", line 285, in concat\n",
      "    op = _Concatenator(\n",
      "  File \"C:\\Users\\dk\\AppData\\Roaming\\Python\\Python38\\site-packages\\pandas\\core\\reshape\\concat.py\", line 342, in __init__\n",
      "    raise ValueError(\"No objects to concatenate\")\n",
      "ValueError: No objects to concatenate\n",
      "Exception on /dtale/charts/_dash-update-component [POST]\n",
      "Traceback (most recent call last):\n",
      "  File \"C:\\ProgramData\\Anaconda3\\lib\\site-packages\\flask\\app.py\", line 2447, in wsgi_app\n",
      "    response = self.full_dispatch_request()\n",
      "  File \"C:\\ProgramData\\Anaconda3\\lib\\site-packages\\flask\\app.py\", line 1952, in full_dispatch_request\n",
      "    rv = self.handle_user_exception(e)\n",
      "  File \"C:\\ProgramData\\Anaconda3\\lib\\site-packages\\flask\\app.py\", line 1821, in handle_user_exception\n",
      "    reraise(exc_type, exc_value, tb)\n",
      "  File \"C:\\ProgramData\\Anaconda3\\lib\\site-packages\\flask\\_compat.py\", line 39, in reraise\n",
      "    raise value\n",
      "  File \"C:\\ProgramData\\Anaconda3\\lib\\site-packages\\flask\\app.py\", line 1950, in full_dispatch_request\n",
      "    rv = self.dispatch_request()\n",
      "  File \"C:\\ProgramData\\Anaconda3\\lib\\site-packages\\flask\\app.py\", line 1936, in dispatch_request\n",
      "    return self.view_functions[rule.endpoint](**req.view_args)\n",
      "  File \"C:\\ProgramData\\Anaconda3\\lib\\site-packages\\dash\\dash.py\", line 1078, in dispatch\n",
      "    response.set_data(func(*args, outputs_list=outputs_list))\n",
      "  File \"C:\\ProgramData\\Anaconda3\\lib\\site-packages\\dash\\dash.py\", line 1009, in add_context\n",
      "    output_value = func(*args, **kwargs)  # %% callback invoked %%\n",
      "  File \"C:\\ProgramData\\Anaconda3\\lib\\site-packages\\dtale\\dash_application\\views.py\", line 917, in group_values\n",
      "    group_vals = build_group_val_options(group_vals, group_cols)\n",
      "  File \"C:\\ProgramData\\Anaconda3\\lib\\site-packages\\dtale\\dash_application\\layout\\layout.py\", line 792, in build_group_val_options\n",
      "    group_vals = find_group_vals(df, group_cols)\n",
      "  File \"C:\\ProgramData\\Anaconda3\\lib\\site-packages\\dtale\\charts\\utils.py\", line 798, in find_group_vals\n",
      "    group_vals, _ = retrieve_chart_data(df, group_cols)\n",
      "  File \"C:\\ProgramData\\Anaconda3\\lib\\site-packages\\dtale\\charts\\utils.py\", line 298, in retrieve_chart_data\n",
      "    all_data = pd.concat(all_data, axis=1)\n",
      "  File \"C:\\Users\\dk\\AppData\\Roaming\\Python\\Python38\\site-packages\\pandas\\core\\reshape\\concat.py\", line 285, in concat\n",
      "    op = _Concatenator(\n",
      "  File \"C:\\Users\\dk\\AppData\\Roaming\\Python\\Python38\\site-packages\\pandas\\core\\reshape\\concat.py\", line 342, in __init__\n",
      "    raise ValueError(\"No objects to concatenate\")\n",
      "ValueError: No objects to concatenate\n"
     ]
    },
    {
     "name": "stderr",
     "output_type": "stream",
     "text": [
      "2021-03-05 19:20:34,083 - ERROR    - Exception on /dtale/charts/_dash-update-component [POST]\n",
      "Traceback (most recent call last):\n",
      "  File \"C:\\ProgramData\\Anaconda3\\lib\\site-packages\\flask\\app.py\", line 2447, in wsgi_app\n",
      "    response = self.full_dispatch_request()\n",
      "  File \"C:\\ProgramData\\Anaconda3\\lib\\site-packages\\flask\\app.py\", line 1952, in full_dispatch_request\n",
      "    rv = self.handle_user_exception(e)\n",
      "  File \"C:\\ProgramData\\Anaconda3\\lib\\site-packages\\flask\\app.py\", line 1821, in handle_user_exception\n",
      "    reraise(exc_type, exc_value, tb)\n",
      "  File \"C:\\ProgramData\\Anaconda3\\lib\\site-packages\\flask\\_compat.py\", line 39, in reraise\n",
      "    raise value\n",
      "  File \"C:\\ProgramData\\Anaconda3\\lib\\site-packages\\flask\\app.py\", line 1950, in full_dispatch_request\n",
      "    rv = self.dispatch_request()\n",
      "  File \"C:\\ProgramData\\Anaconda3\\lib\\site-packages\\flask\\app.py\", line 1936, in dispatch_request\n",
      "    return self.view_functions[rule.endpoint](**req.view_args)\n",
      "  File \"C:\\ProgramData\\Anaconda3\\lib\\site-packages\\dash\\dash.py\", line 1078, in dispatch\n",
      "    response.set_data(func(*args, outputs_list=outputs_list))\n",
      "  File \"C:\\ProgramData\\Anaconda3\\lib\\site-packages\\dash\\dash.py\", line 1009, in add_context\n",
      "    output_value = func(*args, **kwargs)  # %% callback invoked %%\n",
      "  File \"C:\\ProgramData\\Anaconda3\\lib\\site-packages\\dtale\\dash_application\\views.py\", line 917, in group_values\n",
      "    group_vals = build_group_val_options(group_vals, group_cols)\n",
      "  File \"C:\\ProgramData\\Anaconda3\\lib\\site-packages\\dtale\\dash_application\\layout\\layout.py\", line 792, in build_group_val_options\n",
      "    group_vals = find_group_vals(df, group_cols)\n",
      "  File \"C:\\ProgramData\\Anaconda3\\lib\\site-packages\\dtale\\charts\\utils.py\", line 798, in find_group_vals\n",
      "    group_vals, _ = retrieve_chart_data(df, group_cols)\n",
      "  File \"C:\\ProgramData\\Anaconda3\\lib\\site-packages\\dtale\\charts\\utils.py\", line 298, in retrieve_chart_data\n",
      "    all_data = pd.concat(all_data, axis=1)\n",
      "  File \"C:\\Users\\dk\\AppData\\Roaming\\Python\\Python38\\site-packages\\pandas\\core\\reshape\\concat.py\", line 285, in concat\n",
      "    op = _Concatenator(\n",
      "  File \"C:\\Users\\dk\\AppData\\Roaming\\Python\\Python38\\site-packages\\pandas\\core\\reshape\\concat.py\", line 342, in __init__\n",
      "    raise ValueError(\"No objects to concatenate\")\n",
      "ValueError: No objects to concatenate\n"
     ]
    }
   ],
   "source": [
    "profile.to_widgets()\n"
   ]
  },
  {
   "cell_type": "code",
   "execution_count": 19,
   "metadata": {},
   "outputs": [],
   "source": [
    "import dtale"
   ]
  },
  {
   "cell_type": "code",
   "execution_count": 20,
   "metadata": {},
   "outputs": [
    {
     "data": {
      "text/html": [
       "\n",
       "        <iframe\n",
       "            width=\"100%\"\n",
       "            height=\"475\"\n",
       "            src=\"http://DESKTOP-VQHBSEN:40000/dtale/iframe/1\"\n",
       "            frameborder=\"0\"\n",
       "            allowfullscreen\n",
       "        ></iframe>\n",
       "        "
      ],
      "text/plain": [
       "<IPython.lib.display.IFrame at 0x2532a230d30>"
      ]
     },
     "metadata": {},
     "output_type": "display_data"
    },
    {
     "data": {
      "text/plain": []
     },
     "execution_count": 20,
     "metadata": {},
     "output_type": "execute_result"
    }
   ],
   "source": [
    "dtale.show(df)\n"
   ]
  },
  {
   "cell_type": "code",
   "execution_count": null,
   "metadata": {},
   "outputs": [],
   "source": []
  }
 ],
 "metadata": {
  "kernelspec": {
   "display_name": "Python 3",
   "language": "python",
   "name": "python3"
  },
  "language_info": {
   "codemirror_mode": {
    "name": "ipython",
    "version": 3
   },
   "file_extension": ".py",
   "mimetype": "text/x-python",
   "name": "python",
   "nbconvert_exporter": "python",
   "pygments_lexer": "ipython3",
   "version": "3.8.3"
  }
 },
 "nbformat": 4,
 "nbformat_minor": 4
}
